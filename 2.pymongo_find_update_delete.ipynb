{
 "cells": [
  {
   "cell_type": "code",
   "execution_count": 17,
   "metadata": {},
   "outputs": [
    {
     "name": "stdout",
     "output_type": "stream",
     "text": [
      "Name: pymongo\n",
      "Version: 3.10.1\n",
      "Summary: Python driver for MongoDB <http://www.mongodb.org>\n",
      "Home-page: http://github.com/mongodb/mongo-python-driver\n",
      "Author: Mike Dirolf\n",
      "Author-email: mongodb-user@googlegroups.com\n",
      "License: Apache License, Version 2.0\n",
      "Location: c:\\anaconda3\\lib\\site-packages\n",
      "Requires: \n",
      "Required-by: \n"
     ]
    }
   ],
   "source": [
    "!pip show pymongo"
   ]
  },
  {
   "cell_type": "markdown",
   "metadata": {},
   "source": [
    "### Pymongo를 사용해서 MongoDB 제어하기\n",
    "\n",
    "1. pymongo 라이브러리 import\n",
    "2. MongoDB 접속\n",
    "3. Database, Collection 생성\n",
    "4. Collection 에 documment 를 CRUD하기"
   ]
  },
  {
   "cell_type": "code",
   "execution_count": 34,
   "metadata": {},
   "outputs": [
    {
     "name": "stdout",
     "output_type": "stream",
     "text": [
      "MongoClient(host=['localhost:27017'], document_class=dict, tz_aware=False, connect=True)\n",
      "Database(MongoClient(host=['localhost:27017'], document_class=dict, tz_aware=False, connect=True), 'pymongo_db')\n",
      "pymongo_db\n",
      "Collection(Database(MongoClient(host=['localhost:27017'], document_class=dict, tz_aware=False, connect=True), 'pymongo_db'), 'pymongo_col')\n",
      "pymongo_col\n"
     ]
    }
   ],
   "source": [
    "import pymongo\n",
    "\n",
    "# connection 생성\n",
    "conn = pymongo.MongoClient('localhost', 27017)\n",
    "print(conn)\n",
    "\n",
    "# database 생성\n",
    "db = conn.pymongo_db\n",
    "print(db)\n",
    "print(db.name)\n",
    "\n",
    "# collection 생성\n",
    "col = db.pymongo_col\n",
    "print(col)\n",
    "print(col.name)"
   ]
  },
  {
   "cell_type": "markdown",
   "metadata": {},
   "source": [
    "### Insert_one(), insert_many() 함수\n"
   ]
  },
  {
   "cell_type": "code",
   "execution_count": 35,
   "metadata": {},
   "outputs": [
    {
     "name": "stdout",
     "output_type": "stream",
     "text": [
      "Collection(Database(MongoClient(host=['localhost:27017'], document_class=dict, tz_aware=False, connect=True), 'pymongo_db'), 'pymongo_col.inseted')\n"
     ]
    }
   ],
   "source": [
    "post = {'author':'길동', 'text':'첫번째 글', 'tags':['mongodb', 'python', 'pymongo']}\n",
    "col.insert_one(post)\n",
    "print(col.inseted)"
   ]
  },
  {
   "cell_type": "code",
   "execution_count": 36,
   "metadata": {},
   "outputs": [
    {
     "data": {
      "text/plain": [
       "<pymongo.cursor.Cursor at 0x16c7b6a1780>"
      ]
     },
     "execution_count": 36,
     "metadata": {},
     "output_type": "execute_result"
    }
   ],
   "source": [
    " col.find()"
   ]
  },
  {
   "cell_type": "code",
   "execution_count": 37,
   "metadata": {},
   "outputs": [
    {
     "name": "stdout",
     "output_type": "stream",
     "text": [
      "<class 'dict'> {'_id': ObjectId('5f226303e9433bd3a9450e24'), 'author': '길동', 'text': '첫번째 글', 'tags': ['mongodb', 'python', 'pymongo']}\n"
     ]
    }
   ],
   "source": [
    "for post in col.find():\n",
    "    print(type(post), post) \n",
    "# <class 'dict'>\n",
    "# _id 자동 생성"
   ]
  },
  {
   "cell_type": "code",
   "execution_count": 38,
   "metadata": {},
   "outputs": [
    {
     "data": {
      "text/plain": [
       "1"
      ]
     },
     "execution_count": 38,
     "metadata": {},
     "output_type": "execute_result"
    }
   ],
   "source": [
    "# documents 개수\n",
    "col.count_documents({})"
   ]
  },
  {
   "cell_type": "code",
   "execution_count": 39,
   "metadata": {},
   "outputs": [
    {
     "data": {
      "text/plain": [
       "<pymongo.results.InsertManyResult at 0x16c7b6ab208>"
      ]
     },
     "execution_count": 39,
     "metadata": {},
     "output_type": "execute_result"
    }
   ],
   "source": [
    "posts = [\n",
    "    {'author':'둘리', 'age':10},\n",
    "    {'author':'바다', 'age':20},\n",
    "    {'author':'연못', 'age':30},\n",
    "]\n",
    "col.insert_many(posts)"
   ]
  },
  {
   "cell_type": "code",
   "execution_count": 40,
   "metadata": {},
   "outputs": [
    {
     "name": "stdout",
     "output_type": "stream",
     "text": [
      "4\n",
      "<class 'dict'> {'_id': ObjectId('5f226303e9433bd3a9450e24'), 'author': '길동', 'text': '첫번째 글', 'tags': ['mongodb', 'python', 'pymongo']}\n",
      "<class 'dict'> {'_id': ObjectId('5f22630ee9433bd3a9450e25'), 'author': '둘리', 'age': 10}\n",
      "<class 'dict'> {'_id': ObjectId('5f22630ee9433bd3a9450e26'), 'author': '바다', 'age': 20}\n",
      "<class 'dict'> {'_id': ObjectId('5f22630ee9433bd3a9450e27'), 'author': '연못', 'age': 30}\n"
     ]
    }
   ],
   "source": [
    "print(col.count_documents({}))\n",
    "\n",
    "for post in col.find():\n",
    "    print(type(post), post)"
   ]
  },
  {
   "cell_type": "code",
   "execution_count": 33,
   "metadata": {},
   "outputs": [
    {
     "data": {
      "text/plain": [
       "{'nIndexesWas': 1, 'ns': 'pymongo_db.pymongo_col', 'ok': 1.0}"
      ]
     },
     "execution_count": 33,
     "metadata": {},
     "output_type": "execute_result"
    }
   ],
   "source": [
    "# db.drop_collection('pymongo_col')"
   ]
  },
  {
   "cell_type": "code",
   "execution_count": 41,
   "metadata": {},
   "outputs": [
    {
     "name": "stdout",
     "output_type": "stream",
     "text": [
      "{'author': '길동', 'text': '첫번째 글'}\n",
      "{'author': '둘리', 'age': 10}\n",
      "{'author': '바다', 'age': 20}\n",
      "{'author': '연못', 'age': 30}\n"
     ]
    }
   ],
   "source": [
    "for post in col.find({}, {'author':1, 'age':1, 'text':1, '_id':0}):\n",
    "    print(post)"
   ]
  },
  {
   "cell_type": "code",
   "execution_count": 46,
   "metadata": {},
   "outputs": [
    {
     "name": "stdout",
     "output_type": "stream",
     "text": [
      "{'author': '길동', 'text': '첫번째 글'}\n",
      "{'author': '둘리', 'age': 10}\n",
      "{'author': '바다', 'age': 20}\n",
      "{'author': '연못', 'age': 30}\n"
     ]
    }
   ],
   "source": [
    "for post in col.find({}, {'author':1, 'age':1, 'text':1, '_id':0}).sort('age',1):\n",
    "    print(post)"
   ]
  },
  {
   "cell_type": "code",
   "execution_count": 47,
   "metadata": {},
   "outputs": [
    {
     "name": "stdout",
     "output_type": "stream",
     "text": [
      "{'author': '길동', 'text': '첫번째 글'}\n",
      "{'author': '둘리', 'age': 10}\n",
      "{'author': '바다', 'age': 20}\n",
      "{'author': '연못', 'age': 30}\n"
     ]
    }
   ],
   "source": [
    "for post in col.find({}, {'author':1, 'age':1, 'text':1, '_id':0}).sort('age',pymongo.ASCENDING):\n",
    "    print(post)"
   ]
  },
  {
   "cell_type": "code",
   "execution_count": 48,
   "metadata": {},
   "outputs": [
    {
     "name": "stdout",
     "output_type": "stream",
     "text": [
      "{'author': '연못', 'age': 30}\n",
      "{'author': '바다', 'age': 20}\n",
      "{'author': '둘리', 'age': 10}\n",
      "{'author': '길동', 'text': '첫번째 글'}\n"
     ]
    }
   ],
   "source": [
    "for post in col.find({}, {'author':1, 'age':1, 'text':1, '_id':0}).sort('age',pymongo.DESCENDING):\n",
    "    print(post)"
   ]
  },
  {
   "cell_type": "code",
   "execution_count": 49,
   "metadata": {},
   "outputs": [
    {
     "name": "stdout",
     "output_type": "stream",
     "text": [
      "Collection(Database(MongoClient(host=['localhost:27017'], document_class=dict, tz_aware=False, connect=True), 'pymongo_db'), 'employees')\n"
     ]
    }
   ],
   "source": [
    "# employees collection 생성하기\n",
    "emp = db.employees\n",
    "print(emp)"
   ]
  },
  {
   "cell_type": "code",
   "execution_count": 54,
   "metadata": {},
   "outputs": [
    {
     "data": {
      "text/plain": [
       "datetime.datetime(2016, 1, 2, 0, 0)"
      ]
     },
     "execution_count": 54,
     "metadata": {},
     "output_type": "execute_result"
    }
   ],
   "source": [
    "from datetime import datetime\n",
    "\n",
    "datetime.strptime('2016-01-02', '%Y-%m-%d')"
   ]
  },
  {
   "cell_type": "code",
   "execution_count": 55,
   "metadata": {},
   "outputs": [
    {
     "data": {
      "text/plain": [
       "<pymongo.results.InsertManyResult at 0x16c7b6acec8>"
      ]
     },
     "execution_count": 55,
     "metadata": {},
     "output_type": "execute_result"
    }
   ],
   "source": [
    "emp_list = [\n",
    "  {\"number\":1001,\"last_name\":\"Smith\",\"first_name\":\"John\",\"salary\":62000,\"department\":\"sales\", 'hire_date':datetime.strptime(\"2016-01-02\", '%Y-%m-%d')},\n",
    "  {\"number\":1002,\"last_name\":\"Anderson\",\"first_name\":\"Jane\",\"salary\":57500,\"department\":\"marketing\", 'hire_date':datetime.strptime(\"2013-11-09\", '%Y-%m-%d')},\n",
    "  {\"number\":1003,\"last_name\":\"Everest\",\"first_name\":\"Brad\",\"salary\":71000,\"department\":\"sales\", 'hire_date':datetime.strptime(\"2017-02-03\", '%Y-%m-%d')},\n",
    "  {\"number\":1004,\"last_name\":\"Horvath\",\"first_name\":\"Jack\",\"salary\":42000,\"department\":\"marketing\", 'hire_date':datetime.strptime(\"2017-06-01\", '%Y-%m-%d')},\n",
    "]\n",
    "emp.insert_many(emp_list)"
   ]
  },
  {
   "cell_type": "code",
   "execution_count": 56,
   "metadata": {},
   "outputs": [
    {
     "name": "stdout",
     "output_type": "stream",
     "text": [
      "{'_id': ObjectId('5f226609e9433bd3a9450e28'), 'number': 1001, 'last_name': 'Smith', 'first_name': 'John', 'salary': 62000, 'department': 'sales', 'hire_date': datetime.datetime(2016, 1, 2, 0, 0)}\n",
      "{'_id': ObjectId('5f226609e9433bd3a9450e29'), 'number': 1002, 'last_name': 'Anderson', 'first_name': 'Jane', 'salary': 57500, 'department': 'marketing', 'hire_date': datetime.datetime(2013, 11, 9, 0, 0)}\n",
      "{'_id': ObjectId('5f226609e9433bd3a9450e2a'), 'number': 1003, 'last_name': 'Everest', 'first_name': 'Brad', 'salary': 71000, 'department': 'sales', 'hire_date': datetime.datetime(2017, 2, 3, 0, 0)}\n",
      "{'_id': ObjectId('5f226609e9433bd3a9450e2b'), 'number': 1004, 'last_name': 'Horvath', 'first_name': 'Jack', 'salary': 42000, 'department': 'marketing', 'hire_date': datetime.datetime(2017, 6, 1, 0, 0)}\n"
     ]
    }
   ],
   "source": [
    "for employee in emp.find():\n",
    "    print(employee)"
   ]
  },
  {
   "cell_type": "code",
   "execution_count": 68,
   "metadata": {},
   "outputs": [
    {
     "name": "stdout",
     "output_type": "stream",
     "text": [
      "{'number': 1001, 'last_name': 'Smith', 'first_name': 'John', 'salary': 62000, 'department': 'sales', 'hire_date': datetime.datetime(2016, 1, 2, 0, 0)}\n",
      "{'number': 1002, 'last_name': 'Anderson', 'first_name': 'Jane', 'salary': 57500, 'department': 'marketing', 'hire_date': datetime.datetime(2013, 11, 9, 0, 0)}\n"
     ]
    }
   ],
   "source": [
    "# first_name like %a%\n",
    "filter = {'first_name':{'$regex':'a'}} # a 포함\n",
    "filter = {'first_name':{'$regex':'^J'}} # 첫글자\n",
    "filter = {'last_name':{'$regex':'h$'}} # 마지막글자\n",
    "\n",
    "from datetime import datetime\n",
    "\n",
    "from_dt = datetime.strptime('2016-01-02', '%Y-%m-%d')\n",
    "to_dt = datetime.strptime('2017-05-30', '%Y-%m-%d')\n",
    "filter = {\n",
    "    'hire_date': {\"$gte\":from_dt, '$lte':to_dt}\n",
    "}\n",
    "\n",
    "filter = {'number':{'$in':[1001,1002]}}\n",
    "\n",
    "for employee in emp.find(filter, {'_id':0}):\n",
    "    print(employee)"
   ]
  },
  {
   "cell_type": "markdown",
   "metadata": {},
   "source": [
    "### update_one(), update_many() 함수"
   ]
  },
  {
   "cell_type": "code",
   "execution_count": 69,
   "metadata": {},
   "outputs": [
    {
     "data": {
      "text/plain": [
       "<pymongo.results.UpdateResult at 0x16c7b6a2088>"
      ]
     },
     "execution_count": 69,
     "metadata": {},
     "output_type": "execute_result"
    }
   ],
   "source": [
    "emp.update_one({'number':1001},{'$set':{'department':'marketing'}})"
   ]
  },
  {
   "cell_type": "code",
   "execution_count": 80,
   "metadata": {},
   "outputs": [
    {
     "name": "stdout",
     "output_type": "stream",
     "text": [
      "{'number': 1001, 'last_name': 'Smith', 'first_name': 'John', 'salary': 63000, 'department': 'marketing', 'hire_date': datetime.datetime(2016, 1, 2, 0, 0), 'status': 'A'}\n",
      "{'number': 1002, 'last_name': 'Anderson', 'first_name': 'Jane', 'salary': 57500, 'department': 'marketing', 'hire_date': datetime.datetime(2013, 11, 9, 0, 0), 'status': 'A'}\n"
     ]
    }
   ],
   "source": [
    "for employee in emp.find({}, {'_id':0}):\n",
    "    print(employee)"
   ]
  },
  {
   "cell_type": "code",
   "execution_count": 72,
   "metadata": {},
   "outputs": [
    {
     "data": {
      "text/plain": [
       "<pymongo.results.UpdateResult at 0x16c7b6a2208>"
      ]
     },
     "execution_count": 72,
     "metadata": {},
     "output_type": "execute_result"
    }
   ],
   "source": [
    "# number = 1001, salary 62000 -> 63000\n",
    "emp.update_one({'number':1001}, {'$inc':{'salary':1000}})"
   ]
  },
  {
   "cell_type": "code",
   "execution_count": 75,
   "metadata": {},
   "outputs": [
    {
     "data": {
      "text/plain": [
       "<pymongo.results.UpdateResult at 0x16c7b7a2e48>"
      ]
     },
     "execution_count": 75,
     "metadata": {},
     "output_type": "execute_result"
    }
   ],
   "source": [
    "# 존재하지 않는 field를 update를 사용해서 추가도 가능\n",
    "emp.update_many({}, {'$set': {'status':'A'}})"
   ]
  },
  {
   "cell_type": "code",
   "execution_count": 77,
   "metadata": {},
   "outputs": [
    {
     "data": {
      "text/plain": [
       "<pymongo.results.UpdateResult at 0x16c7b6ac908>"
      ]
     },
     "execution_count": 77,
     "metadata": {},
     "output_type": "execute_result"
    }
   ],
   "source": [
    "# update_many()\n",
    "# number in [1003, 1004] 인 document의 status = 'B'로 update\n",
    "emp.update_many({'number':{'$in': [1003,1004]}}, {'$set':{'status': 'B'}})"
   ]
  },
  {
   "cell_type": "code",
   "execution_count": 79,
   "metadata": {},
   "outputs": [
    {
     "data": {
      "text/plain": [
       "<pymongo.results.DeleteResult at 0x16c7b698548>"
      ]
     },
     "execution_count": 79,
     "metadata": {},
     "output_type": "execute_result"
    }
   ],
   "source": [
    "# delete_many()\n",
    "# status = 'B'인 employee 삭제\n",
    "emp.delete_many({'status':'B'})"
   ]
  },
  {
   "cell_type": "code",
   "execution_count": null,
   "metadata": {},
   "outputs": [],
   "source": []
  }
 ],
 "metadata": {
  "kernelspec": {
   "display_name": "Python 3",
   "language": "python",
   "name": "python3"
  },
  "language_info": {
   "codemirror_mode": {
    "name": "ipython",
    "version": 3
   },
   "file_extension": ".py",
   "mimetype": "text/x-python",
   "name": "python",
   "nbconvert_exporter": "python",
   "pygments_lexer": "ipython3",
   "version": "3.7.0"
  }
 },
 "nbformat": 4,
 "nbformat_minor": 2
}

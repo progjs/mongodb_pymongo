{
 "cells": [
  {
   "cell_type": "code",
   "execution_count": null,
   "metadata": {},
   "outputs": [],
   "source": []
  },
  {
   "cell_type": "code",
   "execution_count": 1,
   "metadata": {},
   "outputs": [],
   "source": [
    "import requests\n",
    "from bs4 import BeautifulSoup\n",
    "import re\n",
    "from urllib.parse import urljoin\n",
    "import pymongo"
   ]
  },
  {
   "cell_type": "markdown",
   "metadata": {},
   "source": [
    "#### 1단계"
   ]
  },
  {
   "cell_type": "code",
   "execution_count": null,
   "metadata": {},
   "outputs": [],
   "source": [
    "actor_url = \"http://www.cine21.com/rank/person/content\"\n",
    "\n",
    "formdata_dict = {\n",
    "    'section': 'actor',\n",
    "    'period_start': '2020-07',\n",
    "    'gender': 'all',\n",
    "    'page': 1\n",
    "}\n",
    "\n",
    "res = requests.post(actor_url, data=formdata_dict)\n",
    "# print(res.ok)\n",
    "\n",
    "soup = BeautifulSoup(res.text, 'html.parser')\n",
    "\n",
    "actor_item_list = list()\n",
    "\n",
    "for actor in soup.select('li.people_li div.name'):\n",
    "#     print(actor.text.split('(')[0])\n",
    "    print(re.sub('\\(\\w*\\)','', actor.text))\n",
    "    \n",
    "for a_tag in soup.select('li.people_li div.name a'):\n",
    "    actor_detail_url = urljoin(actor_url, a_tag['href'])\n",
    "    \n",
    "    res = requests.get(actor_detail_url)\n",
    "    soup = BeautifulSoup(res.text, 'html.parser')\n",
    "\n",
    "    act_item_dict = dict()\n",
    "    for li_tag in soup.select('ul.default_info li'):\n",
    "        # dict의 key값 추출 <li><span class=\"tit\">직업</span>배우</li>\n",
    "        actor_item_field = li_tag.select_one('span.tit').text\n",
    "\n",
    "        # dict의 value값 추출 <li><span class=\"tit\">직업</span>배우</li>\n",
    "        actor_item_value = re.sub('<span.*?>.*?</span>','',str(li_tag)) # <li>배우</li>\n",
    "        actor_item_value = re.sub('<.*?>', '', actor_item_value) # 배우\n",
    "        ''' 적용전\n",
    "        http://www.gangdongwon.com\n",
    "\n",
    "        '''\n",
    "        regex = re.compile(r'[\\n\\r\\t]') # 적용후 : http://www.gangdongwon.com\n",
    "        actor_item_value = regex.sub('', actor_item_value)\n",
    "        \n",
    "        act_item_dict[actor_item_field] = actor_item_value\n",
    "    actor_item_list.append(act_item_dict)\n",
    "actor_item_list"
   ]
  }
 ],
 "metadata": {
  "kernelspec": {
   "display_name": "Python 3",
   "language": "python",
   "name": "python3"
  },
  "language_info": {
   "codemirror_mode": {
    "name": "ipython",
    "version": 3
   },
   "file_extension": ".py",
   "mimetype": "text/x-python",
   "name": "python",
   "nbconvert_exporter": "python",
   "pygments_lexer": "ipython3",
   "version": "3.7.0"
  }
 },
 "nbformat": 4,
 "nbformat_minor": 2
}

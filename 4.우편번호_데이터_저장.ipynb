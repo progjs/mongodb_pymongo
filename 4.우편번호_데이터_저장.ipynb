{
 "cells": [
  {
   "cell_type": "markdown",
   "metadata": {},
   "source": [
    "### 우편번호 데이터 저장"
   ]
  },
  {
   "cell_type": "code",
   "execution_count": 4,
   "metadata": {},
   "outputs": [
    {
     "name": "stdout",
     "output_type": "stream",
     "text": [
      "<class 'list'>\n"
     ]
    }
   ],
   "source": [
    "# zips.json 데이터를 MongoDB 에 저장하세요(pymongo로)\n",
    "import json\n",
    "\n",
    "with open('data/zip.json', 'r', encoding='utf-8') as file:\n",
    "    contents = file.read()\n",
    "    json_data = json.loads(contents)\n",
    "    \n",
    "print(type(json_data))\n",
    "# json_data"
   ]
  },
  {
   "cell_type": "code",
   "execution_count": 13,
   "metadata": {},
   "outputs": [
    {
     "name": "stdout",
     "output_type": "stream",
     "text": [
      "Database(MongoClient(host=['localhost:27017'], document_class=dict, tz_aware=False, connect=True), 'zip_db')\n",
      "Collection(Database(MongoClient(host=['localhost:27017'], document_class=dict, tz_aware=False, connect=True), 'zip_db'), 'zipes')\n"
     ]
    }
   ],
   "source": [
    "import pymongo\n",
    "\n",
    "conn = pymongo.MongoClient()\n",
    "zip_db = conn.zip_db\n",
    "print(zip_db)\n",
    "\n",
    "zipes = zip_db.zipes\n",
    "print(zipes)"
   ]
  },
  {
   "cell_type": "code",
   "execution_count": 14,
   "metadata": {},
   "outputs": [
    {
     "data": {
      "text/plain": [
       "<pymongo.results.InsertManyResult at 0x2ba450e5f48>"
      ]
     },
     "execution_count": 14,
     "metadata": {},
     "output_type": "execute_result"
    }
   ],
   "source": [
    "zipes.insert_many(json_data)"
   ]
  },
  {
   "cell_type": "code",
   "execution_count": 15,
   "metadata": {},
   "outputs": [
    {
     "data": {
      "text/plain": [
       "29353"
      ]
     },
     "execution_count": 15,
     "metadata": {},
     "output_type": "execute_result"
    }
   ],
   "source": [
    "zipes.count_documents({})"
   ]
  },
  {
   "cell_type": "code",
   "execution_count": null,
   "metadata": {},
   "outputs": [],
   "source": [
    "import itertools\n",
    "\n",
    "def solution(expression):\n",
    "    numbers, operations = [], []\n",
    "    temp_num = ''\n",
    "    for i in range(len(expression)):\n",
    "        if expression[i].isdigit():\n",
    "            temp_num += expression[i]\n",
    "        else:\n",
    "            numbers.append(int(temp_num))\n",
    "            temp_num = ''\n",
    "            operations.append(expression[i])\n",
    "    numbers.append(int(temp_num))\n",
    "    \n",
    "    answer = 0\n",
    "    for order in itertools.permutations(['+', '-', '*']):\n",
    "        temp_answer = numbers.copy()\n",
    "        temp_operations = operations.copy()\n",
    "        for i in range(len(order)):\n",
    "            index = 0\n",
    "            while index < len(temp_operations):\n",
    "                if temp_operations[index] == order[i]:\n",
    "                    if temp_operations[index] == '+':\n",
    "                        temp_answer[index] += temp_answer[index+1]\n",
    "                    elif temp_operations[index] == '-':\n",
    "                        temp_answer[index] -= temp_answer[index+1]\n",
    "                    elif temp_operations[index] == '*':\n",
    "                        temp_answer[index] *= temp_answer[index+1]\n",
    "                    temp_operations.pop(index)\n",
    "                    temp_answer.pop(index+1)\n",
    "                else:\n",
    "                    index += 1\n",
    "        answer = max(answer, abs(temp_answer[0]))\n",
    "    return answer"
   ]
  }
 ],
 "metadata": {
  "kernelspec": {
   "display_name": "Python 3",
   "language": "python",
   "name": "python3"
  },
  "language_info": {
   "codemirror_mode": {
    "name": "ipython",
    "version": 3
   },
   "file_extension": ".py",
   "mimetype": "text/x-python",
   "name": "python",
   "nbconvert_exporter": "python",
   "pygments_lexer": "ipython3",
   "version": "3.7.0"
  }
 },
 "nbformat": 4,
 "nbformat_minor": 2
}
